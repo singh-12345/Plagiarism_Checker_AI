{
  "cells": [
    {
      "cell_type": "markdown",
      "metadata": {
        "id": "view-in-github",
        "colab_type": "text"
      },
      "source": [
        "<a href=\"https://colab.research.google.com/github/singh-12345/Plagiarism_Checker_AI/blob/main/Plagiarism_Checker.ipynb\" target=\"_parent\"><img src=\"https://colab.research.google.com/assets/colab-badge.svg\" alt=\"Open In Colab\"/></a>"
      ]
    },
    {
      "cell_type": "code",
      "execution_count": null,
      "id": "28646015-653a-41a7-bd30-b1ef0f38a0a1",
      "metadata": {
        "id": "28646015-653a-41a7-bd30-b1ef0f38a0a1",
        "outputId": "02d16ea6-a3c2-4c67-b80b-287869a3f6f6"
      },
      "outputs": [
        {
          "name": "stderr",
          "output_type": "stream",
          "text": [
            "[nltk_data] Downloading collection 'popular'\n",
            "[nltk_data]    | \n",
            "[nltk_data]    | Downloading package cmudict to C:\\Users\\Aman\n",
            "[nltk_data]    |     singh\\AppData\\Roaming\\nltk_data...\n",
            "[nltk_data]    |   Package cmudict is already up-to-date!\n",
            "[nltk_data]    | Downloading package gazetteers to C:\\Users\\Aman\n",
            "[nltk_data]    |     singh\\AppData\\Roaming\\nltk_data...\n",
            "[nltk_data]    |   Package gazetteers is already up-to-date!\n",
            "[nltk_data]    | Downloading package genesis to C:\\Users\\Aman\n",
            "[nltk_data]    |     singh\\AppData\\Roaming\\nltk_data...\n",
            "[nltk_data]    |   Package genesis is already up-to-date!\n",
            "[nltk_data]    | Downloading package gutenberg to C:\\Users\\Aman\n",
            "[nltk_data]    |     singh\\AppData\\Roaming\\nltk_data...\n",
            "[nltk_data]    |   Package gutenberg is already up-to-date!\n",
            "[nltk_data]    | Downloading package inaugural to C:\\Users\\Aman\n",
            "[nltk_data]    |     singh\\AppData\\Roaming\\nltk_data...\n",
            "[nltk_data]    |   Package inaugural is already up-to-date!\n",
            "[nltk_data]    | Downloading package movie_reviews to C:\\Users\\Aman\n",
            "[nltk_data]    |     singh\\AppData\\Roaming\\nltk_data...\n",
            "[nltk_data]    |   Package movie_reviews is already up-to-date!\n",
            "[nltk_data]    | Downloading package names to C:\\Users\\Aman\n",
            "[nltk_data]    |     singh\\AppData\\Roaming\\nltk_data...\n",
            "[nltk_data]    |   Package names is already up-to-date!\n",
            "[nltk_data]    | Downloading package shakespeare to C:\\Users\\Aman\n",
            "[nltk_data]    |     singh\\AppData\\Roaming\\nltk_data...\n",
            "[nltk_data]    |   Package shakespeare is already up-to-date!\n",
            "[nltk_data]    | Downloading package stopwords to C:\\Users\\Aman\n",
            "[nltk_data]    |     singh\\AppData\\Roaming\\nltk_data...\n",
            "[nltk_data]    |   Package stopwords is already up-to-date!\n",
            "[nltk_data]    | Downloading package treebank to C:\\Users\\Aman\n",
            "[nltk_data]    |     singh\\AppData\\Roaming\\nltk_data...\n",
            "[nltk_data]    |   Package treebank is already up-to-date!\n",
            "[nltk_data]    | Downloading package twitter_samples to C:\\Users\\Aman\n",
            "[nltk_data]    |     singh\\AppData\\Roaming\\nltk_data...\n",
            "[nltk_data]    |   Package twitter_samples is already up-to-date!\n",
            "[nltk_data]    | Downloading package omw to C:\\Users\\Aman\n",
            "[nltk_data]    |     singh\\AppData\\Roaming\\nltk_data...\n",
            "[nltk_data]    |   Package omw is already up-to-date!\n",
            "[nltk_data]    | Downloading package omw-1.4 to C:\\Users\\Aman\n",
            "[nltk_data]    |     singh\\AppData\\Roaming\\nltk_data...\n",
            "[nltk_data]    |   Package omw-1.4 is already up-to-date!\n",
            "[nltk_data]    | Downloading package wordnet to C:\\Users\\Aman\n",
            "[nltk_data]    |     singh\\AppData\\Roaming\\nltk_data...\n",
            "[nltk_data]    |   Package wordnet is already up-to-date!\n",
            "[nltk_data]    | Downloading package wordnet2021 to C:\\Users\\Aman\n",
            "[nltk_data]    |     singh\\AppData\\Roaming\\nltk_data...\n",
            "[nltk_data]    |   Package wordnet2021 is already up-to-date!\n",
            "[nltk_data]    | Downloading package wordnet31 to C:\\Users\\Aman\n",
            "[nltk_data]    |     singh\\AppData\\Roaming\\nltk_data...\n",
            "[nltk_data]    |   Package wordnet31 is already up-to-date!\n",
            "[nltk_data]    | Downloading package wordnet_ic to C:\\Users\\Aman\n",
            "[nltk_data]    |     singh\\AppData\\Roaming\\nltk_data...\n",
            "[nltk_data]    |   Package wordnet_ic is already up-to-date!\n",
            "[nltk_data]    | Downloading package words to C:\\Users\\Aman\n",
            "[nltk_data]    |     singh\\AppData\\Roaming\\nltk_data...\n",
            "[nltk_data]    |   Package words is already up-to-date!\n",
            "[nltk_data]    | Downloading package maxent_ne_chunker to\n",
            "[nltk_data]    |     C:\\Users\\Aman singh\\AppData\\Roaming\\nltk_data...\n",
            "[nltk_data]    |   Package maxent_ne_chunker is already up-to-date!\n",
            "[nltk_data]    | Downloading package punkt to C:\\Users\\Aman\n",
            "[nltk_data]    |     singh\\AppData\\Roaming\\nltk_data...\n",
            "[nltk_data]    |   Package punkt is already up-to-date!\n",
            "[nltk_data]    | Downloading package snowball_data to C:\\Users\\Aman\n",
            "[nltk_data]    |     singh\\AppData\\Roaming\\nltk_data...\n",
            "[nltk_data]    |   Package snowball_data is already up-to-date!\n",
            "[nltk_data]    | Downloading package averaged_perceptron_tagger to\n",
            "[nltk_data]    |     C:\\Users\\Aman singh\\AppData\\Roaming\\nltk_data...\n",
            "[nltk_data]    |   Package averaged_perceptron_tagger is already up-\n",
            "[nltk_data]    |       to-date!\n",
            "[nltk_data]    | \n",
            "[nltk_data]  Done downloading collection popular\n"
          ]
        }
      ],
      "source": [
        "import numpy as np\n",
        "import pandas as pd\n",
        "import nltk\n",
        "nltk.download('popular')\n",
        "from nltk.corpus import stopwords\n",
        "import string\n",
        "from sklearn.linear_model import LogisticRegression\n",
        "from sklearn.model_selection import train_test_split\n",
        "from sklearn.metrics import accuracy_score,classification_report,confusion_matrix\n",
        "from sklearn.feature_extraction.text import TfidfVectorizer"
      ]
    },
    {
      "cell_type": "code",
      "execution_count": null,
      "id": "1819dc44-85eb-4396-90d3-a77863d23da1",
      "metadata": {
        "id": "1819dc44-85eb-4396-90d3-a77863d23da1",
        "outputId": "27467308-586c-4d1a-deee-95104307085e"
      },
      "outputs": [
        {
          "data": {
            "text/html": [
              "<div>\n",
              "<style scoped>\n",
              "    .dataframe tbody tr th:only-of-type {\n",
              "        vertical-align: middle;\n",
              "    }\n",
              "\n",
              "    .dataframe tbody tr th {\n",
              "        vertical-align: top;\n",
              "    }\n",
              "\n",
              "    .dataframe thead th {\n",
              "        text-align: right;\n",
              "    }\n",
              "</style>\n",
              "<table border=\"1\" class=\"dataframe\">\n",
              "  <thead>\n",
              "    <tr style=\"text-align: right;\">\n",
              "      <th></th>\n",
              "      <th>input_text</th>\n",
              "      <th>plagiarized_text</th>\n",
              "      <th>label</th>\n",
              "    </tr>\n",
              "  </thead>\n",
              "  <tbody>\n",
              "    <tr>\n",
              "      <th>0</th>\n",
              "      <td>A person on a horse jumps over a broken down a...</td>\n",
              "      <td>A person is at a diner, ordering an omelette.</td>\n",
              "      <td>0</td>\n",
              "    </tr>\n",
              "    <tr>\n",
              "      <th>1</th>\n",
              "      <td>A person on a horse jumps over a broken down a...</td>\n",
              "      <td>A person is outdoors, on a horse.</td>\n",
              "      <td>1</td>\n",
              "    </tr>\n",
              "    <tr>\n",
              "      <th>2</th>\n",
              "      <td>Children smiling and waving at camera</td>\n",
              "      <td>There are children present</td>\n",
              "      <td>1</td>\n",
              "    </tr>\n",
              "    <tr>\n",
              "      <th>3</th>\n",
              "      <td>Children smiling and waving at camera</td>\n",
              "      <td>The kids are frowning</td>\n",
              "      <td>0</td>\n",
              "    </tr>\n",
              "    <tr>\n",
              "      <th>4</th>\n",
              "      <td>A boy is jumping on skateboard in the middle o...</td>\n",
              "      <td>The boy skates down the sidewalk.</td>\n",
              "      <td>0</td>\n",
              "    </tr>\n",
              "  </tbody>\n",
              "</table>\n",
              "</div>"
            ],
            "text/plain": [
              "                                          input_text  \\\n",
              "0  A person on a horse jumps over a broken down a...   \n",
              "1  A person on a horse jumps over a broken down a...   \n",
              "2              Children smiling and waving at camera   \n",
              "3              Children smiling and waving at camera   \n",
              "4  A boy is jumping on skateboard in the middle o...   \n",
              "\n",
              "                                plagiarized_text  label  \n",
              "0  A person is at a diner, ordering an omelette.      0  \n",
              "1              A person is outdoors, on a horse.      1  \n",
              "2                     There are children present      1  \n",
              "3                          The kids are frowning      0  \n",
              "4              The boy skates down the sidewalk.      0  "
            ]
          },
          "execution_count": 2,
          "metadata": {},
          "output_type": "execute_result"
        }
      ],
      "source": [
        "df = pd.read_csv(\"train_snli.txt\", sep=\"\\t\", header=None, names=[\"input_text\", \"plagiarized_text\", \"label\"])\n",
        "df.head()"
      ]
    },
    {
      "cell_type": "code",
      "execution_count": null,
      "id": "36c246aa-51aa-4348-93a5-4292f1c76cb7",
      "metadata": {
        "id": "36c246aa-51aa-4348-93a5-4292f1c76cb7",
        "outputId": "98c5adb7-1bd6-409d-89b3-e6b8721006bf"
      },
      "outputs": [
        {
          "name": "stdout",
          "output_type": "stream",
          "text": [
            "label\n",
            "1    1050\n",
            "0    1049\n",
            "Name: count, dtype: int64\n"
          ]
        }
      ],
      "source": [
        "print(df['label'].value_counts())\n",
        "# 0 -> Not Plagiarised\n",
        "# 1 -> Plagiarised"
      ]
    },
    {
      "cell_type": "code",
      "execution_count": null,
      "id": "90c614f9-4010-4b4e-a1ae-7816d77c70e5",
      "metadata": {
        "id": "90c614f9-4010-4b4e-a1ae-7816d77c70e5",
        "outputId": "70f7ac85-0bfe-469f-b912-0a56568cd823"
      },
      "outputs": [
        {
          "data": {
            "text/plain": [
              "(2099, 3)"
            ]
          },
          "execution_count": 4,
          "metadata": {},
          "output_type": "execute_result"
        }
      ],
      "source": [
        "df.shape"
      ]
    },
    {
      "cell_type": "code",
      "execution_count": null,
      "id": "27ded4a7-77a8-4f04-8ab5-2da947efe194",
      "metadata": {
        "id": "27ded4a7-77a8-4f04-8ab5-2da947efe194",
        "outputId": "512bc0e5-9ead-49a0-e5c3-ccae144f281f"
      },
      "outputs": [
        {
          "data": {
            "text/plain": [
              "(500, 3)"
            ]
          },
          "execution_count": 5,
          "metadata": {},
          "output_type": "execute_result"
        }
      ],
      "source": [
        "df = df.sample(frac=0.5, random_state=42)  # Keep only 50% of the data\n",
        "df = df.head(1000)  # Keep only the first 1000 rows\n",
        "df = df.iloc[:500]  # Keep only the first 500 rows\n",
        "df.shape"
      ]
    },
    {
      "cell_type": "code",
      "execution_count": null,
      "id": "b9939769-30a5-4298-8100-efdf76ab4fc5",
      "metadata": {
        "id": "b9939769-30a5-4298-8100-efdf76ab4fc5",
        "outputId": "a1c624ce-7403-4cca-d441-9f48d296606f"
      },
      "outputs": [
        {
          "name": "stderr",
          "output_type": "stream",
          "text": [
            "[nltk_data] Downloading package stopwords to C:\\Users\\Aman\n",
            "[nltk_data]     singh\\AppData\\Roaming\\nltk_data...\n",
            "[nltk_data]   Package stopwords is already up-to-date!\n"
          ]
        }
      ],
      "source": [
        "import string\n",
        "import nltk\n",
        "from nltk.corpus import stopwords\n",
        "import pandas as pd\n",
        "nltk.download(\"stopwords\")\n",
        "\n",
        "def process_text(text):\n",
        "    if not isinstance(text, str):  # Check if input is string\n",
        "        return \"\"\n",
        "    text = text.translate(str.maketrans(\"\", \"\", string.punctuation))\n",
        "    text = text.lower()\n",
        "    stop_words = set(stopwords.words('english'))\n",
        "    text = \" \".join((word for word in text.split() if word not in stop_words))\n",
        "    return text"
      ]
    },
    {
      "cell_type": "code",
      "execution_count": null,
      "id": "f3c3dd7c-8fb4-4d00-b714-8d4c0f1905e5",
      "metadata": {
        "id": "f3c3dd7c-8fb4-4d00-b714-8d4c0f1905e5"
      },
      "outputs": [],
      "source": [
        "df['input_text']=df['input_text'].apply(process_text)\n",
        "df['plagiarized_text']=df['plagiarized_text'].apply(process_text)"
      ]
    },
    {
      "cell_type": "code",
      "execution_count": null,
      "id": "b5cced23-ad20-4cde-9d93-95a4a8a66684",
      "metadata": {
        "id": "b5cced23-ad20-4cde-9d93-95a4a8a66684",
        "outputId": "c037c5dc-e429-41f4-82d5-98eee996e403"
      },
      "outputs": [
        {
          "data": {
            "text/html": [
              "<div>\n",
              "<style scoped>\n",
              "    .dataframe tbody tr th:only-of-type {\n",
              "        vertical-align: middle;\n",
              "    }\n",
              "\n",
              "    .dataframe tbody tr th {\n",
              "        vertical-align: top;\n",
              "    }\n",
              "\n",
              "    .dataframe thead th {\n",
              "        text-align: right;\n",
              "    }\n",
              "</style>\n",
              "<table border=\"1\" class=\"dataframe\">\n",
              "  <thead>\n",
              "    <tr style=\"text-align: right;\">\n",
              "      <th></th>\n",
              "      <th>input_text</th>\n",
              "      <th>plagiarized_text</th>\n",
              "      <th>label</th>\n",
              "    </tr>\n",
              "  </thead>\n",
              "  <tbody>\n",
              "    <tr>\n",
              "      <th>1005</th>\n",
              "      <td>man riding dirt bike</td>\n",
              "      <td>human riding vehicle</td>\n",
              "      <td>1</td>\n",
              "    </tr>\n",
              "    <tr>\n",
              "      <th>1078</th>\n",
              "      <td>man gray vehicle feeding sheep</td>\n",
              "      <td>man outside</td>\n",
              "      <td>1</td>\n",
              "    </tr>\n",
              "    <tr>\n",
              "      <th>67</th>\n",
              "      <td>woman walking across street eating banana man ...</td>\n",
              "      <td>woman eating banana</td>\n",
              "      <td>1</td>\n",
              "    </tr>\n",
              "    <tr>\n",
              "      <th>867</th>\n",
              "      <td>children playing game field</td>\n",
              "      <td>children playing game</td>\n",
              "      <td>1</td>\n",
              "    </tr>\n",
              "    <tr>\n",
              "      <th>650</th>\n",
              "      <td>man bright green shirt shows woman bright pink...</td>\n",
              "      <td>man woman</td>\n",
              "      <td>1</td>\n",
              "    </tr>\n",
              "    <tr>\n",
              "      <th>...</th>\n",
              "      <td>...</td>\n",
              "      <td>...</td>\n",
              "      <td>...</td>\n",
              "    </tr>\n",
              "    <tr>\n",
              "      <th>532</th>\n",
              "      <td>brown dog treads water</td>\n",
              "      <td>brown dog treads water soaked water</td>\n",
              "      <td>1</td>\n",
              "    </tr>\n",
              "    <tr>\n",
              "      <th>607</th>\n",
              "      <td>young woman running two guys back try catch</td>\n",
              "      <td>group people running</td>\n",
              "      <td>1</td>\n",
              "    </tr>\n",
              "    <tr>\n",
              "      <th>394</th>\n",
              "      <td>exhausted looking firemen walking</td>\n",
              "      <td>firemen walking</td>\n",
              "      <td>1</td>\n",
              "    </tr>\n",
              "    <tr>\n",
              "      <th>930</th>\n",
              "      <td>family van fence</td>\n",
              "      <td>family pickup truck</td>\n",
              "      <td>0</td>\n",
              "    </tr>\n",
              "    <tr>\n",
              "      <th>1424</th>\n",
              "      <td>people city gathered around blue station wagon</td>\n",
              "      <td>people next vehicle city</td>\n",
              "      <td>1</td>\n",
              "    </tr>\n",
              "  </tbody>\n",
              "</table>\n",
              "<p>500 rows × 3 columns</p>\n",
              "</div>"
            ],
            "text/plain": [
              "                                             input_text  \\\n",
              "1005                               man riding dirt bike   \n",
              "1078                     man gray vehicle feeding sheep   \n",
              "67    woman walking across street eating banana man ...   \n",
              "867                         children playing game field   \n",
              "650   man bright green shirt shows woman bright pink...   \n",
              "...                                                 ...   \n",
              "532                              brown dog treads water   \n",
              "607         young woman running two guys back try catch   \n",
              "394                   exhausted looking firemen walking   \n",
              "930                                    family van fence   \n",
              "1424     people city gathered around blue station wagon   \n",
              "\n",
              "                         plagiarized_text  label  \n",
              "1005                 human riding vehicle      1  \n",
              "1078                          man outside      1  \n",
              "67                    woman eating banana      1  \n",
              "867                 children playing game      1  \n",
              "650                             man woman      1  \n",
              "...                                   ...    ...  \n",
              "532   brown dog treads water soaked water      1  \n",
              "607                  group people running      1  \n",
              "394                       firemen walking      1  \n",
              "930                   family pickup truck      0  \n",
              "1424             people next vehicle city      1  \n",
              "\n",
              "[500 rows x 3 columns]"
            ]
          },
          "execution_count": 8,
          "metadata": {},
          "output_type": "execute_result"
        }
      ],
      "source": [
        "df"
      ]
    },
    {
      "cell_type": "code",
      "execution_count": null,
      "id": "c46bb35a-3662-4e03-8143-57f3f49ba5e6",
      "metadata": {
        "id": "c46bb35a-3662-4e03-8143-57f3f49ba5e6",
        "outputId": "17794520-3f28-4e92-8885-fb3675ca9bf1"
      },
      "outputs": [
        {
          "name": "stdout",
          "output_type": "stream",
          "text": [
            "TF-IDF Matrix Shape: (500, 1316)\n"
          ]
        }
      ],
      "source": [
        "from sklearn.feature_extraction.text import TfidfVectorizer\n",
        "import pandas as pd\n",
        "\n",
        "# Fill NaN values with an empty string\n",
        "df[\"input_text\"] = df[\"input_text\"].fillna(\"\").astype(str)\n",
        "df[\"plagiarized_text\"] = df[\"plagiarized_text\"].fillna(\"\").astype(str)\n",
        "\n",
        "# Combine both columns into one\n",
        "df[\"combined_text\"] = df[\"input_text\"] + \" \" + df[\"plagiarized_text\"]\n",
        "\n",
        "# Initialize and transform text data\n",
        "tfidf_vectorizer = TfidfVectorizer()\n",
        "X = tfidf_vectorizer.fit_transform(df[\"combined_text\"])\n",
        "\n",
        "# Print shape of the resulting matrix\n",
        "print(\"TF-IDF Matrix Shape:\", X.shape)"
      ]
    },
    {
      "cell_type": "code",
      "execution_count": null,
      "id": "cd455b72-79da-44af-ae8d-52dad6ba50c4",
      "metadata": {
        "id": "cd455b72-79da-44af-ae8d-52dad6ba50c4",
        "outputId": "6e6713f1-97ac-4a65-82ea-e3c1127f79d2"
      },
      "outputs": [
        {
          "data": {
            "text/html": [
              "<div>\n",
              "<style scoped>\n",
              "    .dataframe tbody tr th:only-of-type {\n",
              "        vertical-align: middle;\n",
              "    }\n",
              "\n",
              "    .dataframe tbody tr th {\n",
              "        vertical-align: top;\n",
              "    }\n",
              "\n",
              "    .dataframe thead th {\n",
              "        text-align: right;\n",
              "    }\n",
              "</style>\n",
              "<table border=\"1\" class=\"dataframe\">\n",
              "  <thead>\n",
              "    <tr style=\"text-align: right;\">\n",
              "      <th></th>\n",
              "      <th>input_text</th>\n",
              "      <th>plagiarized_text</th>\n",
              "      <th>label</th>\n",
              "      <th>combined_text</th>\n",
              "    </tr>\n",
              "  </thead>\n",
              "  <tbody>\n",
              "    <tr>\n",
              "      <th>1005</th>\n",
              "      <td>man riding dirt bike</td>\n",
              "      <td>human riding vehicle</td>\n",
              "      <td>1</td>\n",
              "      <td>man riding dirt bike human riding vehicle</td>\n",
              "    </tr>\n",
              "    <tr>\n",
              "      <th>1078</th>\n",
              "      <td>man gray vehicle feeding sheep</td>\n",
              "      <td>man outside</td>\n",
              "      <td>1</td>\n",
              "      <td>man gray vehicle feeding sheep man outside</td>\n",
              "    </tr>\n",
              "    <tr>\n",
              "      <th>67</th>\n",
              "      <td>woman walking across street eating banana man ...</td>\n",
              "      <td>woman eating banana</td>\n",
              "      <td>1</td>\n",
              "      <td>woman walking across street eating banana man ...</td>\n",
              "    </tr>\n",
              "    <tr>\n",
              "      <th>867</th>\n",
              "      <td>children playing game field</td>\n",
              "      <td>children playing game</td>\n",
              "      <td>1</td>\n",
              "      <td>children playing game field children playing game</td>\n",
              "    </tr>\n",
              "    <tr>\n",
              "      <th>650</th>\n",
              "      <td>man bright green shirt shows woman bright pink...</td>\n",
              "      <td>man woman</td>\n",
              "      <td>1</td>\n",
              "      <td>man bright green shirt shows woman bright pink...</td>\n",
              "    </tr>\n",
              "    <tr>\n",
              "      <th>...</th>\n",
              "      <td>...</td>\n",
              "      <td>...</td>\n",
              "      <td>...</td>\n",
              "      <td>...</td>\n",
              "    </tr>\n",
              "    <tr>\n",
              "      <th>532</th>\n",
              "      <td>brown dog treads water</td>\n",
              "      <td>brown dog treads water soaked water</td>\n",
              "      <td>1</td>\n",
              "      <td>brown dog treads water brown dog treads water ...</td>\n",
              "    </tr>\n",
              "    <tr>\n",
              "      <th>607</th>\n",
              "      <td>young woman running two guys back try catch</td>\n",
              "      <td>group people running</td>\n",
              "      <td>1</td>\n",
              "      <td>young woman running two guys back try catch gr...</td>\n",
              "    </tr>\n",
              "    <tr>\n",
              "      <th>394</th>\n",
              "      <td>exhausted looking firemen walking</td>\n",
              "      <td>firemen walking</td>\n",
              "      <td>1</td>\n",
              "      <td>exhausted looking firemen walking firemen walking</td>\n",
              "    </tr>\n",
              "    <tr>\n",
              "      <th>930</th>\n",
              "      <td>family van fence</td>\n",
              "      <td>family pickup truck</td>\n",
              "      <td>0</td>\n",
              "      <td>family van fence family pickup truck</td>\n",
              "    </tr>\n",
              "    <tr>\n",
              "      <th>1424</th>\n",
              "      <td>people city gathered around blue station wagon</td>\n",
              "      <td>people next vehicle city</td>\n",
              "      <td>1</td>\n",
              "      <td>people city gathered around blue station wagon...</td>\n",
              "    </tr>\n",
              "  </tbody>\n",
              "</table>\n",
              "<p>500 rows × 4 columns</p>\n",
              "</div>"
            ],
            "text/plain": [
              "                                             input_text  \\\n",
              "1005                               man riding dirt bike   \n",
              "1078                     man gray vehicle feeding sheep   \n",
              "67    woman walking across street eating banana man ...   \n",
              "867                         children playing game field   \n",
              "650   man bright green shirt shows woman bright pink...   \n",
              "...                                                 ...   \n",
              "532                              brown dog treads water   \n",
              "607         young woman running two guys back try catch   \n",
              "394                   exhausted looking firemen walking   \n",
              "930                                    family van fence   \n",
              "1424     people city gathered around blue station wagon   \n",
              "\n",
              "                         plagiarized_text  label  \\\n",
              "1005                 human riding vehicle      1   \n",
              "1078                          man outside      1   \n",
              "67                    woman eating banana      1   \n",
              "867                 children playing game      1   \n",
              "650                             man woman      1   \n",
              "...                                   ...    ...   \n",
              "532   brown dog treads water soaked water      1   \n",
              "607                  group people running      1   \n",
              "394                       firemen walking      1   \n",
              "930                   family pickup truck      0   \n",
              "1424             people next vehicle city      1   \n",
              "\n",
              "                                          combined_text  \n",
              "1005          man riding dirt bike human riding vehicle  \n",
              "1078         man gray vehicle feeding sheep man outside  \n",
              "67    woman walking across street eating banana man ...  \n",
              "867   children playing game field children playing game  \n",
              "650   man bright green shirt shows woman bright pink...  \n",
              "...                                                 ...  \n",
              "532   brown dog treads water brown dog treads water ...  \n",
              "607   young woman running two guys back try catch gr...  \n",
              "394   exhausted looking firemen walking firemen walking  \n",
              "930                family van fence family pickup truck  \n",
              "1424  people city gathered around blue station wagon...  \n",
              "\n",
              "[500 rows x 4 columns]"
            ]
          },
          "execution_count": 10,
          "metadata": {},
          "output_type": "execute_result"
        }
      ],
      "source": [
        "df"
      ]
    },
    {
      "cell_type": "code",
      "execution_count": null,
      "id": "647ab1ad-6b4e-4108-a7d8-c9673594d540",
      "metadata": {
        "id": "647ab1ad-6b4e-4108-a7d8-c9673594d540"
      },
      "outputs": [],
      "source": [
        "y = df['label']"
      ]
    },
    {
      "cell_type": "code",
      "execution_count": null,
      "id": "c7ef852b-f037-4960-a517-46add83be342",
      "metadata": {
        "id": "c7ef852b-f037-4960-a517-46add83be342"
      },
      "outputs": [],
      "source": [
        "# train test split\n",
        "X_train,X_test,y_train,y_test = train_test_split(X,y,test_size=0.2,random_state=42)"
      ]
    },
    {
      "cell_type": "code",
      "execution_count": null,
      "id": "705634f0-c2a0-43ce-9949-08164e1e8f07",
      "metadata": {
        "id": "705634f0-c2a0-43ce-9949-08164e1e8f07",
        "outputId": "2f67b925-c08a-48c3-861f-4a933bb0e8d6"
      },
      "outputs": [
        {
          "name": "stdout",
          "output_type": "stream",
          "text": [
            "accuracy 0.47\n",
            "Classification                precision    recall  f1-score   support\n",
            "\n",
            "           0       0.53      0.38      0.44        55\n",
            "           1       0.43      0.58      0.50        45\n",
            "\n",
            "    accuracy                           0.47       100\n",
            "   macro avg       0.48      0.48      0.47       100\n",
            "weighted avg       0.48      0.47      0.47       100\n",
            "\n",
            "confusion  [[21 34]\n",
            " [19 26]]\n"
          ]
        }
      ],
      "source": [
        "# logistic regression\n",
        "model = LogisticRegression()\n",
        "model.fit(X_train,y_train)\n",
        "y_pred = model.predict(X_test)\n",
        "\n",
        "print(\"accuracy\" , accuracy_score(y_test,y_pred))\n",
        "print(\"Classification \", classification_report(y_test,y_pred))\n",
        "print(\"confusion \", confusion_matrix(y_test,y_pred))"
      ]
    },
    {
      "cell_type": "code",
      "execution_count": null,
      "id": "ce3316e9-dd5c-43db-ba8f-af7023515dcd",
      "metadata": {
        "id": "ce3316e9-dd5c-43db-ba8f-af7023515dcd",
        "outputId": "d4705c61-8b26-401d-b7ea-a3b6f2cce710"
      },
      "outputs": [
        {
          "name": "stdout",
          "output_type": "stream",
          "text": [
            "Accuracy: 0.44\n",
            "\n",
            "Classification Report:\n",
            "               precision    recall  f1-score   support\n",
            "\n",
            "           0       0.49      0.35      0.40        55\n",
            "           1       0.41      0.56      0.47        45\n",
            "\n",
            "    accuracy                           0.44       100\n",
            "   macro avg       0.45      0.45      0.44       100\n",
            "weighted avg       0.45      0.44      0.43       100\n",
            "\n",
            "\n",
            "Confusion Matrix:\n",
            " [[19 36]\n",
            " [20 25]]\n"
          ]
        }
      ],
      "source": [
        "# Random forest\n",
        "\n",
        "from sklearn.ensemble import RandomForestClassifier\n",
        "from sklearn.metrics import accuracy_score, classification_report, confusion_matrix\n",
        "\n",
        "# Initialize and train the model\n",
        "model = RandomForestClassifier(n_estimators=100, random_state=42)\n",
        "model.fit(X_train, y_train)\n",
        "\n",
        "# Make predictions\n",
        "y_pred = model.predict(X_test)\n",
        "\n",
        "# Display results\n",
        "print(\"Accuracy:\", accuracy_score(y_test, y_pred))\n",
        "print(\"\\nClassification Report:\\n\", classification_report(y_test, y_pred))\n",
        "print(\"\\nConfusion Matrix:\\n\", confusion_matrix(y_test, y_pred))"
      ]
    },
    {
      "cell_type": "code",
      "execution_count": null,
      "id": "1a0dfb67-3fde-42b2-815e-39b7d1691099",
      "metadata": {
        "id": "1a0dfb67-3fde-42b2-815e-39b7d1691099",
        "outputId": "3bf3975a-72dd-4859-b80a-9333ddabe748"
      },
      "outputs": [
        {
          "name": "stdout",
          "output_type": "stream",
          "text": [
            "accuracy 0.44\n",
            "Classification                precision    recall  f1-score   support\n",
            "\n",
            "           0       0.48      0.27      0.35        55\n",
            "           1       0.42      0.64      0.51        45\n",
            "\n",
            "    accuracy                           0.44       100\n",
            "   macro avg       0.45      0.46      0.43       100\n",
            "weighted avg       0.46      0.44      0.42       100\n",
            "\n",
            "confusion  [[15 40]\n",
            " [16 29]]\n"
          ]
        }
      ],
      "source": [
        "# naive bays\n",
        "\n",
        "from sklearn.naive_bayes import MultinomialNB\n",
        "\n",
        "\n",
        "model = MultinomialNB()\n",
        "model.fit(X_train,y_train)\n",
        "y_pred = model.predict(X_test)\n",
        "\n",
        "print(\"accuracy\" , accuracy_score(y_test,y_pred))\n",
        "print(\"Classification \", classification_report(y_test,y_pred))\n",
        "print(\"confusion \", confusion_matrix(y_test,y_pred))"
      ]
    },
    {
      "cell_type": "code",
      "execution_count": null,
      "id": "491b0610-a7f4-40b4-8453-e93faf4a76a0",
      "metadata": {
        "id": "491b0610-a7f4-40b4-8453-e93faf4a76a0",
        "outputId": "490a493a-ef48-4c08-81e7-2e0ce7196807"
      },
      "outputs": [
        {
          "name": "stdout",
          "output_type": "stream",
          "text": [
            "Accuracy: 0.48\n",
            "\n",
            "Classification Report:\n",
            "               precision    recall  f1-score   support\n",
            "\n",
            "           0       0.54      0.36      0.43        55\n",
            "           1       0.44      0.62      0.52        45\n",
            "\n",
            "    accuracy                           0.48       100\n",
            "   macro avg       0.49      0.49      0.48       100\n",
            "weighted avg       0.50      0.48      0.47       100\n",
            "\n",
            "\n",
            "Confusion Matrix:\n",
            " [[20 35]\n",
            " [17 28]]\n"
          ]
        }
      ],
      "source": [
        "# SVM\n",
        "\n",
        "# Import libraries\n",
        "from sklearn.svm import SVC\n",
        "from sklearn.preprocessing import StandardScaler\n",
        "from sklearn.metrics import accuracy_score, classification_report, confusion_matrix\n",
        "from scipy.sparse import csr_matrix\n",
        "\n",
        "# Convert to dense matrix if needed\n",
        "if isinstance(X_train, csr_matrix):\n",
        "    X_train = X_train.toarray()\n",
        "    X_test = X_test.toarray()\n",
        "\n",
        "# Scale the data (with_mean=False for sparse matrices)\n",
        "scaler = StandardScaler(with_mean=False)\n",
        "X_train = scaler.fit_transform(X_train)\n",
        "X_test = scaler.transform(X_test)\n",
        "\n",
        "# Train SVM model\n",
        "model = SVC(kernel='linear', random_state=42)\n",
        "model.fit(X_train, y_train)\n",
        "\n",
        "# Predictions\n",
        "y_pred = model.predict(X_test)\n",
        "\n",
        "# Print results\n",
        "print(\"Accuracy:\", accuracy_score(y_test, y_pred))\n",
        "print(\"\\nClassification Report:\\n\", classification_report(y_test, y_pred))\n",
        "print(\"\\nConfusion Matrix:\\n\", confusion_matrix(y_test, y_pred))"
      ]
    },
    {
      "cell_type": "code",
      "execution_count": null,
      "id": "a87d8d52-e9c0-4db2-8bb5-35950fd3c583",
      "metadata": {
        "id": "a87d8d52-e9c0-4db2-8bb5-35950fd3c583"
      },
      "outputs": [],
      "source": [
        "import pickle\n",
        "pickle.dump(model,open('model.pkl','wb'))\n",
        "pickle.dump(tfidf_vectorizer,open('tfidf_vectorizer.pkl','wb'))"
      ]
    },
    {
      "cell_type": "code",
      "execution_count": null,
      "id": "1a3dbf1c-2013-4647-9b64-567d7901fed8",
      "metadata": {
        "id": "1a3dbf1c-2013-4647-9b64-567d7901fed8"
      },
      "outputs": [],
      "source": [
        "import pickle\n",
        "model = pickle.load(open('model.pkl','rb'))\n",
        "tfidf_vectorizer = pickle.load(open('tfidf_vectorizer.pkl','rb'))"
      ]
    },
    {
      "cell_type": "code",
      "execution_count": null,
      "id": "16d32e22-19a0-4b6b-840c-77ae47e74c7b",
      "metadata": {
        "id": "16d32e22-19a0-4b6b-840c-77ae47e74c7b",
        "outputId": "b2956c5f-03d2-4b77-c6da-f68d7391986a"
      },
      "outputs": [
        {
          "name": "stdin",
          "output_type": "stream",
          "text": [
            "Enter a sentence to check for plagiarism:  how are u\n"
          ]
        },
        {
          "name": "stdout",
          "output_type": "stream",
          "text": [
            "Predicted Value: 1\n",
            "Plagiarism Detected\n"
          ]
        }
      ],
      "source": [
        "# detection system\n",
        "\n",
        "import numpy as np\n",
        "\n",
        "def detect(input_txt):\n",
        "    vectorized_text = tfidf_vectorizer.transform([input_txt])\n",
        "    vectorized_text = vectorized_text.toarray()  # Convert sparse matrix to dense array\n",
        "\n",
        "    result = model.predict(vectorized_text)\n",
        "\n",
        "    print(f\"Predicted Value: {result[0]}\")  # Debugging output\n",
        "\n",
        "    return \"Plagiarism Detected\" if result[0] == 1 else \"No Plagiarism\"\n",
        "\n",
        "# Custom input\n",
        "input_txt = input(\"Enter a sentence to check for plagiarism: \")\n",
        "print(detect(input_txt))\n"
      ]
    },
    {
      "cell_type": "code",
      "execution_count": null,
      "id": "780d67b9-98e9-4d6c-8eac-c8ae684be4aa",
      "metadata": {
        "id": "780d67b9-98e9-4d6c-8eac-c8ae684be4aa"
      },
      "outputs": [],
      "source": []
    }
  ],
  "metadata": {
    "kernelspec": {
      "display_name": "Python 3 (ipykernel)",
      "language": "python",
      "name": "python3"
    },
    "language_info": {
      "codemirror_mode": {
        "name": "ipython",
        "version": 3
      },
      "file_extension": ".py",
      "mimetype": "text/x-python",
      "name": "python",
      "nbconvert_exporter": "python",
      "pygments_lexer": "ipython3",
      "version": "3.13.1"
    },
    "colab": {
      "provenance": [],
      "include_colab_link": true
    }
  },
  "nbformat": 4,
  "nbformat_minor": 5
}